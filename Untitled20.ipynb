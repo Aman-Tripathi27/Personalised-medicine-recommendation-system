{
  "nbformat": 4,
  "nbformat_minor": 0,
  "metadata": {
    "colab": {
      "provenance": [],
      "gpuType": "T4"
    },
    "kernelspec": {
      "name": "python3",
      "display_name": "Python 3"
    },
    "language_info": {
      "name": "python"
    },
    "accelerator": "GPU"
  },
  "cells": [
    {
      "cell_type": "code",
      "execution_count": 6,
      "metadata": {
        "id": "fHlKZ3msqlwU"
      },
      "outputs": [],
      "source": [
        "# Step 2: Load and clean dataset\n",
        "import pandas as pd\n",
        "\n",
        "med = pd.read_csv('/content/drive/MyDrive/drugs.csv')  # Adjust if needed\n",
        "med = med.dropna(subset=['drugName', 'condition', 'review', 'rating'])\n",
        "med.reset_index(drop=True, inplace=True)\n",
        "med['text'] = med['drugName'].astype(str) + ' ' + med['condition'].astype(str)\n"
      ]
    },
    {
      "cell_type": "code",
      "source": [
        "# Step 3: Feature Engineering (Fixed version)\n",
        "from sklearn.feature_extraction.text import TfidfVectorizer\n",
        "from sklearn.preprocessing import MinMaxScaler\n",
        "from sklearn.metrics.pairwise import cosine_similarity\n",
        "from scipy.sparse import hstack\n",
        "\n",
        "# TF-IDF on combined text\n",
        "tfidf = TfidfVectorizer(stop_words='english')\n",
        "tfidf_matrix = tfidf.fit_transform(med['text'])\n",
        "\n",
        "# Normalize ratings\n",
        "scaler = MinMaxScaler()\n",
        "rating_vector = scaler.fit_transform(med[['rating']])\n",
        "\n",
        "# Combine features and convert to CSR (required for indexing)\n",
        "from scipy.sparse import csr_matrix\n",
        "combined_features = hstack([tfidf_matrix, rating_vector])\n",
        "combined_features = csr_matrix(combined_features)\n"
      ],
      "metadata": {
        "id": "tan1LJb-v0KE"
      },
      "execution_count": 10,
      "outputs": []
    },
    {
      "cell_type": "code",
      "source": [
        "# Step 4: Recommendation Function\n",
        "import numpy as np\n",
        "\n",
        "def recommend(drug_name, top_n=5):\n",
        "    indices = med[med['drugName'].str.lower() == drug_name.lower()].index.tolist()\n",
        "    if not indices:\n",
        "        return f\"❌ '{drug_name}' not found in data.\"\n",
        "\n",
        "    index = indices[0]\n",
        "    sim_scores = cosine_similarity(combined_features[index], combined_features).flatten()\n",
        "    similar_indices = sim_scores.argsort()[::-1][1:top_n+1]\n",
        "\n",
        "    results = []\n",
        "    for i in similar_indices:\n",
        "        row = med.iloc[i]\n",
        "        results.append({\n",
        "            '🧪 Medicine': row['drugName'],\n",
        "            '📋 Condition': row['condition'],\n",
        "            '⭐ Rating': row['rating'],\n",
        "            '🗣 Review': row['review'][:300] + \"...\" if len(row['review']) > 300 else row['review'],\n",
        "            '📊 Similarity Score': round(sim_scores[i], 3)\n",
        "        })\n",
        "    return results\n"
      ],
      "metadata": {
        "id": "G7VjMS_VyrD_"
      },
      "execution_count": 11,
      "outputs": []
    },
    {
      "cell_type": "code",
      "source": [
        "# Step 5: Try it!\n",
        "drug_input = \"Afatinib\"\n",
        "recommendations = recommend(drug_input)\n",
        "\n",
        "if isinstance(recommendations, str):\n",
        "    print(recommendations)\n",
        "else:\n",
        "    for r in recommendations:\n",
        "        for k, v in r.items():\n",
        "            print(f\"{k}: {v}\")\n",
        "        print(\"\\n\" + \"-\"*50 + \"\\n\")\n"
      ],
      "metadata": {
        "colab": {
          "base_uri": "https://localhost:8080/"
        },
        "id": "V_4MTFwKyq8a",
        "outputId": "edd3cf7b-5cad-44d8-9897-7a4b96e0bb14"
      },
      "execution_count": 12,
      "outputs": [
        {
          "output_type": "stream",
          "name": "stdout",
          "text": [
            "🧪 Medicine: Afatinib\n",
            "📋 Condition: Non-Small Cell Lung Cance\n",
            "⭐ Rating: 10\n",
            "🗣 Review: \"I started Gilotrif/Afatinib 7 days ago. I can feel tumor shrinking, I can move now -I use to be so stiffed. \r\r\n",
            "I was diagnosed NSCLC Lung Cancer stage 4. My diagnoses is EGFR exon 19 so this meds is perfect for my mutation.\r\r\n",
            "After one day on Gilotrif, I had diaarhea. But the doctor gives me Lopera...\n",
            "📊 Similarity Score: 0.933\n",
            "\n",
            "--------------------------------------------------\n",
            "\n",
            "🧪 Medicine: Tarceva\n",
            "📋 Condition: Non-Small Cell Lung Cance\n",
            "⭐ Rating: 7\n",
            "🗣 Review: \"Stage 4 lung cancer that had got into my bones from my shoulders to my hips and spine and liver was found 5/6/2015. After 6 rounds of radiation on my spine to defer some of the pain and 2 months in the hospital I started taking Tarceva as the only option to chemo or dying within 5-6 months. Here I ...\n",
            "📊 Similarity Score: 0.774\n",
            "\n",
            "--------------------------------------------------\n",
            "\n",
            "🧪 Medicine: Nivolumab\n",
            "📋 Condition: Non-Small Cell Lung Cance\n",
            "⭐ Rating: 7\n",
            "🗣 Review: \"I have been taking Ondivo since March 2016.  My cancer is now in my liver and the medicine seems to be keeping the  cancer strictly in my liver, due to a PET scan in 12-2016.  I have developed a red rash and found that lotion and creams do help.  Lately I have noticed my nails looking strange and t...\n",
            "📊 Similarity Score: 0.772\n",
            "\n",
            "--------------------------------------------------\n",
            "\n",
            "🧪 Medicine: Tarceva\n",
            "📋 Condition: Non-Small Cell Lung Cance\n",
            "⭐ Rating: 8\n",
            "🗣 Review: \"Female 68, excellent health, nonsmoker. Asian, diagnosed EGFR 12/16. On 5th day of Tarceva 150Mg. feeling great.  No breathlessness. No side effects so far.Hope to continue if no liver impact.  Wondering if there&#039;s any preventative steps that could be taken to ward off the next mutation when t...\n",
            "📊 Similarity Score: 0.77\n",
            "\n",
            "--------------------------------------------------\n",
            "\n",
            "🧪 Medicine: Bevacizumab\n",
            "📋 Condition: Non-Small Cell Lung Cance\n",
            "⭐ Rating: 8\n",
            "🗣 Review: \"July 31, 2006 diagnosis: stage 4 non-small cell lung cancer.  I began with a clinical trial of Avastin in January &#039;07.  I continue to have the infusion every three weeks; my cancer is in remission.  Normal life expectancy for this stage cancer is 2 to 5 years.  God has blessed me so far with 2...\n",
            "📊 Similarity Score: 0.766\n",
            "\n",
            "--------------------------------------------------\n",
            "\n"
          ]
        }
      ]
    },
    {
      "cell_type": "code",
      "source": [
        "import pickle\n",
        "\n",
        "with open(\"med.pkl\", \"wb\") as f:\n",
        "    pickle.dump(med, f)\n",
        "\n",
        "with open(\"combined_features.pkl\", \"wb\") as f:\n",
        "    pickle.dump(combined_features, f)\n"
      ],
      "metadata": {
        "id": "GF8MzQBayaNE"
      },
      "execution_count": 13,
      "outputs": []
    },
    {
      "cell_type": "code",
      "source": [],
      "metadata": {
        "id": "866dZtjqzzlg"
      },
      "execution_count": null,
      "outputs": []
    }
  ]
}